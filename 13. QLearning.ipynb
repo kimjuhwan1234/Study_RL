{
 "cells": [
  {
   "cell_type": "code",
   "execution_count": 1,
   "id": "initial_id",
   "metadata": {
    "collapsed": true,
    "ExecuteTime": {
     "end_time": "2025-02-09T08:28:41.879675800Z",
     "start_time": "2025-02-09T08:28:41.265216400Z"
    }
   },
   "outputs": [],
   "source": [
    "import gym\n",
    "import random\n",
    "import warnings\n",
    "import numpy as np\n",
    "import matplotlib.pyplot as plt\n",
    "from tqdm import tqdm\n",
    "from collections import defaultdict\n",
    "\n",
    "warnings.filterwarnings(\"ignore\")"
   ]
  },
  {
   "cell_type": "code",
   "outputs": [],
   "source": [
    "class QLearning:\n",
    "    def __init__(self, bin_list, num_episodes, gamma, epsilon, max_steps, alpha):\n",
    "        self.bin_list = bin_list\n",
    "        self.num_episodes = num_episodes\n",
    "        self.gamma = gamma\n",
    "        self.epsilon = epsilon\n",
    "        self.alpha = alpha  # 학습률 추가\n",
    "        self.max_steps = max_steps\n",
    "\n",
    "    def discretize(self, obs):\n",
    "        idxs = [\n",
    "            min(max(np.digitize(o, b) - 1, 0), len(b) - 1)\n",
    "            for o, b in zip(obs, self.bin_list)\n",
    "        ]\n",
    "        return tuple(idxs)\n",
    "\n",
    "    def decay_epsilon(self, rewards_log):\n",
    "        if len(rewards_log) == 10:\n",
    "            self.best_reward = np.mean(rewards_log[-10:])\n",
    "\n",
    "        elif len(rewards_log) > 10 and len(rewards_log) % 100 == 0:\n",
    "            avg_reward = np.mean(rewards_log[-10:])  # 최근 10개 보상 평균\n",
    "            if avg_reward > self.best_reward:  # 최고 보상을 갱신하면 감소\n",
    "                self.best_reward = avg_reward\n",
    "                self.epsilon = max(0.01, self.epsilon - 0.001)\n",
    "\n",
    "    def fit(self, env, Q):\n",
    "        rewards_log = []\n",
    "\n",
    "        for _ in tqdm(range(self.num_episodes)):\n",
    "            obs, info = env.reset()\n",
    "            state = self.discretize(obs)\n",
    "\n",
    "            total_reward = 0\n",
    "\n",
    "            for _ in range(self.max_steps):\n",
    "                # ε-탐욕적으로 행동 선택\n",
    "                if random.random() < self.epsilon:\n",
    "                    action = random.randint(0, 1)\n",
    "                else:\n",
    "                    action = np.argmax(Q[state])\n",
    "\n",
    "                obs_next, reward, done, truncated, info = env.step(action)\n",
    "                next_state = self.discretize(obs_next)\n",
    "\n",
    "                # Q-learning 업데이트 (max Q 사용)\n",
    "                if done:\n",
    "                    target = reward  # 종료 상태에서는 다음 상태의 Q값 없음\n",
    "                else:\n",
    "                    target = reward + self.gamma * np.max(Q[next_state])\n",
    "\n",
    "                Q[state][action] += self.alpha * (target - Q[state][action])\n",
    "                state = next_state  # SARSA와 다르게 다음 행동을 미리 선택하지 않음.\n",
    "\n",
    "                if done or truncated:\n",
    "                    break\n",
    "\n",
    "            rewards_log.append(total_reward)\n",
    "            self.decay_epsilon(rewards_log)\n",
    "\n",
    "        env.close()\n",
    "        return Q, rewards_log\n"
   ],
   "metadata": {
    "collapsed": false,
    "ExecuteTime": {
     "end_time": "2025-02-09T08:28:41.897130500Z",
     "start_time": "2025-02-09T08:28:41.887060100Z"
    }
   },
   "id": "c5d6ed48682df080",
   "execution_count": 2
  },
  {
   "cell_type": "code",
   "execution_count": 3,
   "id": "eac759414a169f04",
   "metadata": {
    "ExecuteTime": {
     "end_time": "2025-02-09T08:28:41.907128800Z",
     "start_time": "2025-02-09T08:28:41.893601600Z"
    }
   },
   "outputs": [],
   "source": [
    "# 1) 환경 & 이산화 준비\n",
    "env = gym.make('CartPole-v1')\n",
    "num_bins = 8\n",
    "# 관측 범위\n",
    "ranges = [(-4.8, 4.8), (-3, 3), (-0.418, 0.418), (-4, 4)]\n",
    "bins_list = [np.linspace(lo, hi, num_bins) for (lo, hi) in ranges]\n",
    "\n",
    "# 2) Q, 카운트(점진적 평균)\n",
    "Q = defaultdict(lambda: np.zeros(env.action_space.n, dtype=np.float32))"
   ]
  },
  {
   "cell_type": "code",
   "outputs": [
    {
     "name": "stderr",
     "output_type": "stream",
     "text": [
      " 20%|█▉        | 5948/30000 [00:30<02:03, 194.65it/s] \n",
      "\n",
      "KeyboardInterrupt\n",
      "\n"
     ]
    }
   ],
   "source": [
    "QL = QLearning(bins_list, num_episodes=50000, gamma=0.99, epsilon=0.05, max_steps=500, alpha=0.1)\n",
    "Q, rewards = QL.fit(env, Q)"
   ],
   "metadata": {
    "collapsed": false,
    "ExecuteTime": {
     "end_time": "2025-02-09T08:29:12.687392400Z",
     "start_time": "2025-02-09T08:28:41.908141500Z"
    }
   },
   "id": "87bf832a76e576e9",
   "execution_count": 4
  },
  {
   "cell_type": "code",
   "outputs": [],
   "source": [
    "plt.figure(figsize=(15, 3), dpi=400)\n",
    "plt.plot(np.array(rewards), label=\"Monte Carlo Method\")\n",
    "plt.title('CartPole-v1')\n",
    "plt.xlabel('Episode', fontsize=15)\n",
    "plt.ylabel('Reward', fontsize=15)\n",
    "plt.legend(loc='upper right')\n",
    "plt.tight_layout()\n",
    "plt.show()\n",
    "\n",
    "print(f\"최종 epsilon: {QL.epsilon}\")\n",
    "print(\"초반 10개 에피소드 보상:\", rewards[:10])\n",
    "print(\"마지막 10개 에피소드 보상:\", rewards[-10:])\n",
    "avg_reward_recent = np.mean(rewards[-100:])\n",
    "print(f\"최근 100 에피소드 평균 보상: {avg_reward_recent:.2f}\")"
   ],
   "metadata": {
    "collapsed": false,
    "ExecuteTime": {
     "start_time": "2025-02-09T08:29:12.685888700Z"
    }
   },
   "id": "c8d5dd5a205b9c6f",
   "execution_count": null
  }
 ],
 "metadata": {
  "kernelspec": {
   "display_name": "Python 3 (ipykernel)",
   "language": "python",
   "name": "python3"
  },
  "language_info": {
   "codemirror_mode": {
    "name": "ipython",
    "version": 3
   },
   "file_extension": ".py",
   "mimetype": "text/x-python",
   "name": "python",
   "nbconvert_exporter": "python",
   "pygments_lexer": "ipython3",
   "version": "3.11.5"
  }
 },
 "nbformat": 4,
 "nbformat_minor": 5
}
