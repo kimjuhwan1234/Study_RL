{
 "cells": [
  {
   "cell_type": "code",
   "execution_count": 6,
   "id": "initial_id",
   "metadata": {
    "collapsed": true,
    "ExecuteTime": {
     "end_time": "2025-02-09T11:34:22.150057100Z",
     "start_time": "2025-02-09T11:34:22.117581300Z"
    }
   },
   "outputs": [],
   "source": [
    "import gym\n",
    "import random\n",
    "import warnings\n",
    "import numpy as np\n",
    "import matplotlib.pyplot as plt\n",
    "from tqdm import tqdm\n",
    "from collections import defaultdict\n",
    "\n",
    "warnings.filterwarnings(\"ignore\")"
   ]
  },
  {
   "cell_type": "code",
   "execution_count": 7,
   "id": "c98bb9ace7448d37",
   "metadata": {
    "ExecuteTime": {
     "end_time": "2025-02-09T11:34:22.170625600Z",
     "start_time": "2025-02-09T11:34:22.159929600Z"
    }
   },
   "outputs": [],
   "source": [
    "class SARSA:\n",
    "    def __init__(self, bin_list, num_episodes, gamma, epsilon, max_steps, alpha):\n",
    "        self.bin_list = bin_list\n",
    "        self.num_episodes = num_episodes\n",
    "        self.gamma = gamma\n",
    "        self.epsilon = epsilon\n",
    "        self.max_steps = max_steps\n",
    "        self.alpha = alpha  # 학습률 추가\n",
    "\n",
    "    def discretize(self, obs):\n",
    "        idxs = [\n",
    "            min(max(np.digitize(o, b) - 1, 0), len(b) - 1)\n",
    "            for o, b in zip(obs, self.bin_list)\n",
    "        ]\n",
    "        return tuple(idxs)\n",
    "\n",
    "    def decay_epsilon(self, rewards_log):\n",
    "        avg_reward = np.mean(rewards_log[-10:])\n",
    "        if avg_reward > 450:\n",
    "            self.epsilon = 0.0001\n",
    "\n",
    "    def fit(self, env, Q):\n",
    "        rewards_log = []\n",
    "\n",
    "        for _ in tqdm(range(self.num_episodes)):\n",
    "            obs, info = env.reset()\n",
    "            state = self.discretize(obs)\n",
    "            total_reward = 0\n",
    "\n",
    "            # ε-탐욕적으로 초기 행동 선택\n",
    "            if random.random() < self.epsilon:\n",
    "                action = random.randint(0, 1)\n",
    "            else:\n",
    "                action = np.argmax(Q[state])\n",
    "\n",
    "            for _ in range(self.max_steps):\n",
    "                obs_next, reward, done, truncated, info = env.step(action)\n",
    "                next_state = self.discretize(obs_next)\n",
    "\n",
    "                # 다음 행동 a'도 ε-탐욕적으로 선택 (SARSA 방식)\n",
    "                if random.random() < self.epsilon:\n",
    "                    next_action = random.randint(0, 1)\n",
    "                else:\n",
    "                    next_action = np.argmax(Q[next_state])\n",
    "\n",
    "                # SARSA 업데이트 식 적용\n",
    "                if done:\n",
    "                    target = reward  # 종료 상태에서는 다음 상태의 Q값 없음\n",
    "                else:\n",
    "                    target = reward + self.gamma * Q[next_state][next_action]\n",
    "\n",
    "                Q[state][action] += self.alpha * (target - Q[state][action])\n",
    "                total_reward += reward\n",
    "                state, action = next_state, next_action  # 다음 상태, 행동으로 이동\n",
    "\n",
    "            rewards_log.append(total_reward)\n",
    "            self.decay_epsilon(rewards_log)\n",
    "\n",
    "        env.close()\n",
    "        return Q, rewards_log"
   ]
  },
  {
   "cell_type": "code",
   "execution_count": 8,
   "id": "eac759414a169f04",
   "metadata": {
    "ExecuteTime": {
     "end_time": "2025-02-09T11:34:22.209520Z",
     "start_time": "2025-02-09T11:34:22.175353600Z"
    }
   },
   "outputs": [],
   "source": [
    "# 1) 환경 & 이산화 준비\n",
    "env = gym.make('CartPole-v1')\n",
    "num_bins = 12\n",
    "# 관측 범위\n",
    "ranges = [(-4.8, 4.8), (-3, 3), (-0.418, 0.418), (-4, 4)]\n",
    "bins_list = [np.linspace(lo, hi, num_bins) for (lo, hi) in ranges]\n",
    "\n",
    "# 2) Q, 카운트(점진적 평균)\n",
    "Q = defaultdict(lambda: np.random.uniform(low=0, high=10, size=(env.action_space.n)).astype(np.float32))"
   ]
  },
  {
   "cell_type": "code",
   "execution_count": 9,
   "id": "2b007c4ab8086cd5",
   "metadata": {
    "ExecuteTime": {
     "end_time": "2025-02-09T11:36:42.555133700Z",
     "start_time": "2025-02-09T11:34:22.200013300Z"
    }
   },
   "outputs": [
    {
     "name": "stderr",
     "output_type": "stream",
     "text": [
      " 31%|███       | 1534/5000 [02:20<05:16, 10.94it/s]\n",
      "\n",
      "KeyboardInterrupt\n",
      "\n"
     ]
    }
   ],
   "source": [
    "SA = SARSA(bins_list, num_episodes=5000, gamma=0.99, epsilon=0.1, max_steps=1000, alpha=0.1)\n",
    "Q, rewards = SA.fit(env, Q)"
   ]
  },
  {
   "cell_type": "code",
   "execution_count": null,
   "id": "7529438db71fe446",
   "metadata": {
    "ExecuteTime": {
     "start_time": "2025-02-09T11:36:42.548580900Z"
    }
   },
   "outputs": [],
   "source": [
    "plt.figure(figsize=(15, 3), dpi=400)\n",
    "plt.plot(np.array(rewards), label=\"SARSA\")\n",
    "plt.title('CartPole-v1')\n",
    "plt.xlabel('Episode', fontsize=15)\n",
    "plt.ylabel('Reward', fontsize=15)\n",
    "plt.legend(loc='upper right')\n",
    "plt.tight_layout()\n",
    "plt.show()\n",
    "\n",
    "print(f\"최종 epsilon: {SA.epsilon}\")\n",
    "print(\"초반 10개 에피소드 보상:\", rewards[:10])\n",
    "print(\"마지막 10개 에피소드 보상:\", rewards[-10:])\n",
    "avg_reward_recent = np.mean(rewards[-100:])\n",
    "print(f\"최근 100 에피소드 평균 보상: {avg_reward_recent:.2f}\")"
   ]
  }
 ],
 "metadata": {
  "kernelspec": {
   "display_name": "Python 3 (ipykernel)",
   "language": "python",
   "name": "python3"
  },
  "language_info": {
   "codemirror_mode": {
    "name": "ipython",
    "version": 3
   },
   "file_extension": ".py",
   "mimetype": "text/x-python",
   "name": "python",
   "nbconvert_exporter": "python",
   "pygments_lexer": "ipython3",
   "version": "3.11.5"
  }
 },
 "nbformat": 4,
 "nbformat_minor": 5
}
